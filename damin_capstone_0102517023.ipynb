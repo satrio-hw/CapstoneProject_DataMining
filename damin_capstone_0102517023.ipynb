{
  "nbformat": 4,
  "nbformat_minor": 0,
  "metadata": {
    "colab": {
      "name": "damin_capstone_0102517023.ipynb",
      "provenance": [],
      "collapsed_sections": [],
      "include_colab_link": true
    },
    "kernelspec": {
      "name": "python3",
      "display_name": "Python 3"
    },
    "accelerator": "GPU"
  },
  "cells": [
    {
      "cell_type": "markdown",
      "metadata": {
        "id": "view-in-github",
        "colab_type": "text"
      },
      "source": [
        "<a href=\"https://colab.research.google.com/github/satrio-hw/CapstoneProject_DataMining/blob/master/damin_capstone_0102517023.ipynb\" target=\"_parent\"><img src=\"https://colab.research.google.com/assets/colab-badge.svg\" alt=\"Open In Colab\"/></a>"
      ]
    },
    {
      "cell_type": "code",
      "metadata": {
        "id": "RgwXiPcRkEl3",
        "colab_type": "code",
        "outputId": "d77f7bd3-f088-4457-ba24-36729fe2e167",
        "colab": {
          "base_uri": "https://localhost:8080/",
          "height": 35
        }
      },
      "source": [
        "import torch\n",
        "device = torch.device(\"cuda:0\" if torch.cuda.is_available() else \"cpu\")\n",
        "print(device)"
      ],
      "execution_count": 0,
      "outputs": [
        {
          "output_type": "stream",
          "text": [
            "cuda:0\n"
          ],
          "name": "stdout"
        }
      ]
    },
    {
      "cell_type": "code",
      "metadata": {
        "id": "c0JBzo5GyQx1",
        "colab_type": "code",
        "outputId": "8d46121c-a7b9-4f23-a4a7-2922bb53ce0b",
        "colab": {
          "base_uri": "https://localhost:8080/",
          "height": 90
        }
      },
      "source": [
        "import nltk\n",
        "import pandas as pd\n",
        "nltk.download('punkt')\n",
        "nltk.download('stopwords')\n",
        "import string\n",
        "import re\n",
        "df = pd.DataFrame()"
      ],
      "execution_count": 0,
      "outputs": [
        {
          "output_type": "stream",
          "text": [
            "[nltk_data] Downloading package punkt to /root/nltk_data...\n",
            "[nltk_data]   Package punkt is already up-to-date!\n",
            "[nltk_data] Downloading package stopwords to /root/nltk_data...\n",
            "[nltk_data]   Package stopwords is already up-to-date!\n"
          ],
          "name": "stdout"
        }
      ]
    },
    {
      "cell_type": "code",
      "metadata": {
        "id": "HU7cBpj657C1",
        "colab_type": "code",
        "outputId": "41fcf7db-78b5-4ea3-f563-74387d5d0977",
        "colab": {
          "base_uri": "https://localhost:8080/",
          "height": 35
        }
      },
      "source": [
        "!pip install sastrawi"
      ],
      "execution_count": 0,
      "outputs": [
        {
          "output_type": "stream",
          "text": [
            "Requirement already satisfied: sastrawi in /usr/local/lib/python3.6/dist-packages (1.0.1)\n"
          ],
          "name": "stdout"
        }
      ]
    },
    {
      "cell_type": "code",
      "metadata": {
        "id": "-3VwN2ZK6Ovr",
        "colab_type": "code",
        "colab": {}
      },
      "source": [
        "from Sastrawi.Stemmer.StemmerFactory import StemmerFactory"
      ],
      "execution_count": 0,
      "outputs": []
    },
    {
      "cell_type": "code",
      "metadata": {
        "id": "2kwCa53gR4c8",
        "colab_type": "code",
        "outputId": "10bdc35c-4ef2-4ed6-fffc-2df854f0c519",
        "colab": {
          "base_uri": "https://localhost:8080/",
          "height": 35
        }
      },
      "source": [
        "from google.colab import drive\n",
        "drive.mount('/content/gdrive', force_remount=True)"
      ],
      "execution_count": 0,
      "outputs": [
        {
          "output_type": "stream",
          "text": [
            "Mounted at /content/gdrive\n"
          ],
          "name": "stdout"
        }
      ]
    },
    {
      "cell_type": "code",
      "metadata": {
        "id": "JiXTqR-eiNni",
        "colab_type": "code",
        "colab": {}
      },
      "source": [
        "root_path = 'gdrive/My Drive/damin_capstone/dataset_berita'"
      ],
      "execution_count": 0,
      "outputs": []
    },
    {
      "cell_type": "code",
      "metadata": {
        "id": "6dXh_qvkikh-",
        "colab_type": "code",
        "colab": {}
      },
      "source": [
        "import os\n",
        "\n",
        "# List all files in a directory using os.listdir\n",
        "basepath = root_path+'/kompas/txt/'\n",
        "listtitle=[]\n",
        "listyear=[]\n",
        "listmonth=[]\n",
        "listday=[]"
      ],
      "execution_count": 0,
      "outputs": []
    },
    {
      "cell_type": "code",
      "metadata": {
        "id": "F9Hu3Y4G30IK",
        "colab_type": "code",
        "outputId": "3b153b55-ed5b-488f-f553-d3bb63ea5ca1",
        "colab": {
          "base_uri": "https://localhost:8080/",
          "height": 35
        }
      },
      "source": [
        "count=0\n",
        "for folder in os.listdir(basepath):\n",
        "  for txtfile in os.listdir((basepath+folder)):\n",
        "    count+=1\n",
        "    #print(txtfile)\n",
        "print(count) #ada 5449 files di 22 folder"
      ],
      "execution_count": 0,
      "outputs": [
        {
          "output_type": "stream",
          "text": [
            "5449\n"
          ],
          "name": "stdout"
        }
      ]
    },
    {
      "cell_type": "markdown",
      "metadata": {
        "id": "3uFXBuNbRZbO",
        "colab_type": "text"
      },
      "source": [
        "##test per 1 artikel##"
      ]
    },
    {
      "cell_type": "code",
      "metadata": {
        "id": "SW8HNfhUix0v",
        "colab_type": "code",
        "colab": {}
      },
      "source": [
        "f=open((basepath+folder+'/'+txtfile),\"rb\")"
      ],
      "execution_count": 0,
      "outputs": []
    },
    {
      "cell_type": "code",
      "metadata": {
        "id": "Xvd9JeMRxCJU",
        "colab_type": "code",
        "colab": {}
      },
      "source": [
        "isifile=f.read()"
      ],
      "execution_count": 0,
      "outputs": []
    },
    {
      "cell_type": "code",
      "metadata": {
        "id": "Bj8UZowrxHA1",
        "colab_type": "code",
        "colab": {}
      },
      "source": [
        "rawtext=str(isifile)\n",
        "#print(rawtext)"
      ],
      "execution_count": 0,
      "outputs": []
    },
    {
      "cell_type": "code",
      "metadata": {
        "id": "4AEof6BN6Yfy",
        "colab_type": "code",
        "outputId": "4740af5f-9f3e-4093-ab70-92d929399f44",
        "colab": {
          "base_uri": "https://localhost:8080/",
          "height": 90
        }
      },
      "source": [
        "#Get TITLE, TANGGAL penerbitan artikel\n",
        "title=[]\n",
        "temp=None\n",
        "for karakter_index in range (len(rawtext)):\n",
        "  if karakter_index >= 2:\n",
        "    if rawtext[karakter_index] == \"n\" and rawtext[karakter_index-1] == \"\\\\\":\n",
        "      mulaiisi_idx=karakter_index-1\n",
        "      break;\n",
        "    title.append(rawtext[karakter_index])\n",
        "title.pop()\n",
        "\n",
        "listtitle.append(''.join(title))\n",
        "listday.append(txtfile[0:2])\n",
        "listmonth.append(txtfile[4:6])\n",
        "listyear.append('20'+txtfile[2:4])\n",
        "print(listtitle)\n",
        "print(listday)\n",
        "print(listmonth)\n",
        "print(listyear)"
      ],
      "execution_count": 0,
      "outputs": [
        {
          "output_type": "stream",
          "text": [
            "['Ny Rossanna Menampung Tommy karena Menyayanginya']\n",
            "['30']\n",
            "['11']\n",
            "['2001']\n"
          ],
          "name": "stdout"
        }
      ]
    },
    {
      "cell_type": "code",
      "metadata": {
        "id": "r25MVTlVyiKL",
        "colab_type": "code",
        "colab": {}
      },
      "source": [
        "factory = StemmerFactory()\n",
        "stemmer = factory.create_stemmer()"
      ],
      "execution_count": 0,
      "outputs": []
    },
    {
      "cell_type": "code",
      "metadata": {
        "id": "7wl2SppRye_g",
        "colab_type": "code",
        "outputId": "344467ac-9744-4d23-a167-1835a4acf681",
        "colab": {
          "base_uri": "https://localhost:8080/",
          "height": 55
        }
      },
      "source": [
        "textisi=rawtext[mulaiisi_idx:len(rawtext)]\n",
        "\n",
        "#print(textisi)\n",
        "textisi=textisi.strip('\\\\n') #remove trailing newline\n",
        "textisi=textisi.replace('\\\\r\\\\n\\\\n','') #remove \\r\\n\\n\n",
        "textisi = re.sub(r\"\\d+\", \"\", textisi) #remove number\n",
        "textisi = stemmer.stem(textisi)\n",
        "#print(textisi)\n",
        "textisi = textisi.translate(str.maketrans('','',string.punctuation)).lower() #remove symbols\n",
        "print(textisi)"
      ],
      "execution_count": 0,
      "outputs": [
        {
          "output_type": "stream",
          "text": [
            "tenang dan pasrah serta penuh kasih kepada tommy soeharto begitu kesan yang tangkap telah bincang dengan ny rossanna hasan kamis siang milik rumah tempat hutomo mandala putra sembunyi saat tangkap polisi itu sedang sama putra bill haque tunggu di ruang unit vice controle untuk jalan proses berita acara periksa bap saat tanya apakah dia tahu anak mantan presiden itu buron nomor satu polisi dia jawab ya tentu saya tahu tapi bagaimana ya tommy sedang susah dia minta tolong minta pun dengan santun dan rendah hati saya tidak bisa tolak kata ny rossanna yang oleh banyak media tulis bagai ny cana atau ny hasan ny rossanna pegang kartu tanda duduk ktp yang tempat tinggal di jalan margasatwa nomor rt rw cilandak timur jakarta selatan ktp sebut baru tanggal juli dan laku sampai agustus dia tutur pada bulan agustus setelah polisi gerebek apartemen cemara dan rumah di jalan alam segar tommy temu ny rossanna oma apa boleh saya tumpang tidur di rumah oma kata tommy saat itu ny rossanna yang panggil oma oleh tommy balik tanya apakah itu tidak bahaya buat tommy sendiri telah tommy jawab tidak dia pun sila tommy inap tommy lalu minta kunci duplikat rumah ny rossanna di jalan maleo ii nomor bintaro jaya tangerang banten hubung ny rossanna dengan tommy bukan baru dia pertama kali lihat tommy saat putra bungsu mantan presiden soeharto itu usia tujuh tahun pada saat itu hasan suami ny rossanna masih aktif bagai kolonel di corps polisi militer yang awal presiden soeharto suami saya telah tinggal hampir tahun lalu ketika anak bungsu saya ini usia tujuh tahun kata ny rossanna sambil usap kepala anak tiga bill haque yang duduk di samping kiri walaupun begitu ny rossanna baru temu kembali dengan tommy pada tahun itu pun tidak temu cara khusus tetapi temu dalam acara sosial yang betul sama mereka hadir yah temu sambil lewat tetapi waktu agustus itu dia memang datang dan minta langsung ke saya untuk sekali tinggal di rumah saya kata ibu tiga anak sebut dalam kurun tiga bulan agustusnovember itu memang tidak tiap hari tommy tinggal di rumah tommy datang sekali ny rossanna temu dan cakap langsung dengan tommy tanya berapa sering dia jawab sambil hitung jari tangan hitung tidak sampai cukup jumlah seluruh jari tangan saya ny rossanna hanya tahu bahwa tommy ada di rumah tommy lebih banyak urung diri di salah satu kamar rumah dia lebih banyak berdzikir di kamar sembahyang tidak pernah telat tommy juga senang mutih dari semua anak pak harto memang tommy yang paling rajin ibadah karena itu dia paling sayang pak harto kata ny rossanna namun dia ban diri bagai nasihat spiritual tommy saya hanya tahu pasti giat spiritual tommy kata turut ny rossanna lama datang dan inap di rumah tommy tidak pernah kawal siapa pun atau lihat bawa senjata api biasa tommy tiba saja sudah turun dari taksi atau dari mobil yang antar di depan rumah hanya dua kali tommy telepon lebih dulu minta jemput bill haque pun jemput di pinggir jalan di mana tommy tunggu sendiri jadi kami tidak pernah lihat orang yang antar dia tommy pun tidak pernah pakai wig kalau datang dia kaus dan berjins malah kadang pakai celana yang lutut seperti cara busana anak saya ini tutur sejak agustus pun saat foto tommy sebar dalam tampil berewok oleh pihak polda metro jaya tommy tidak pernah lihat berewok namun tetap tampil klimis dan rapi mungkin untuk samar diri tommy selalu pakai topi pet dan kaca mata hitam tommy juga selalu bawa tas serut kecil dari kain blacu itu saja yang bawa saya sendiri tidak tahu apa isi karena kami juga jarang ngobrolngobrol sama anak saya juga jarang ngobrol karena dua diam tommy kalau bicara sedikit tambah ny rossanna lama di rumah ny rossanna tommy masak sendiri makan masuk ulek sendiri sambal tommy tidak pernah santap makan yang masak ny rossanna mungkin masakan saya tidak pas dengan selera atau mungkin dia tidak percaya saya kata makan yang biasa santap tommy adalah sup sayur sup ikan dan ikan goreng tommy pun gemar makan ayam pop turut ny rossanna tommy adalah pribadi yang sederhana dan fair orang sangat simpel tekan saat polisi tangkap tommy langsung bilang kepada polisi untuk tidak bawa ny rossanna tanya deh ke polisi tommy waktu itu langsung minta agar saya tidak tangkap saya yang salah pak oma tidak tahu apa begitu dia bilang ungkap ny rossanna kepada orang polisi yang tangkap tommy malah bilang tangkap diri ibarat dia kalah dalam main catur ya dalam hal ini saya kalah harus kamu hak dapat hadiah yang janji itu karena saya tangkap kata kepada sidik itu ny rossanna akhir jalan proses berita acara periksa bap pada kamis pukul tetapi saya tidak harus tahan saya hanya kena wajib lapor tiap senin dan kamis saya kena pasal kuhp kata pasal itu isi ancam orang yang sembunyi orang yang buat jahat atau bantu lari diri bisa kena kurung sembilan bulan penjara atau denda banyak rp\n"
          ],
          "name": "stdout"
        }
      ]
    },
    {
      "cell_type": "code",
      "metadata": {
        "id": "jQmZz19-E08O",
        "colab_type": "code",
        "outputId": "c50336e5-7496-4f8a-ad89-c18083555b04",
        "colab": {
          "base_uri": "https://localhost:8080/",
          "height": 35
        }
      },
      "source": [
        "tokens = nltk.tokenize.word_tokenize(textisi)\n",
        "print(len(tokens))"
      ],
      "execution_count": 0,
      "outputs": [
        {
          "output_type": "stream",
          "text": [
            "818\n"
          ],
          "name": "stdout"
        }
      ]
    },
    {
      "cell_type": "code",
      "metadata": {
        "id": "zxpV1q8k9efk",
        "colab_type": "code",
        "outputId": "f2cb4200-2e60-4b44-a9fa-34bb2f85eb71",
        "colab": {
          "base_uri": "https://localhost:8080/",
          "height": 55
        }
      },
      "source": [
        "listStopword =  set(nltk.corpus.stopwords.words('indonesian'))\n",
        "listStopword.add('ny')\n",
        "listStopword.add('ya') \n",
        "removed_sw = []\n",
        "for t in tokens:\n",
        "    if t not in listStopword:\n",
        "        removed_sw.append(t)\n",
        " \n",
        "#print(removed_sw)\n",
        "wordsfreq = nltk.FreqDist(removed_sw)\n",
        "print(wordsfreq.most_common())"
      ],
      "execution_count": 0,
      "outputs": [
        {
          "output_type": "stream",
          "text": [
            "[('tommy', 39), ('rossanna', 21), ('rumah', 11), ('polisi', 8), ('tangkap', 7), ('anak', 7), ('jalan', 6), ('temu', 6), ('orang', 5), ('tinggal', 4), ('agustus', 4), ('oma', 4), ('lihat', 4), ('langsung', 4), ('bawa', 4), ('makan', 4), ('soeharto', 3), ('hasan', 3), ('kamis', 3), ('putra', 3), ('bill', 3), ('haque', 3), ('acara', 3), ('presiden', 3), ('nomor', 3), ('pakai', 3), ('bilang', 3), ('kena', 3), ('sembunyi', 2), ('tunggu', 2), ('proses', 2), ('berita', 2), ('periksa', 2), ('bap', 2), ('mantan', 2), ('duduk', 2), ('ktp', 2), ('inap', 2), ('jaya', 2), ('kali', 2), ('bungsu', 2), ('usia', 2), ('tujuh', 2), ('suami', 2), ('hitung', 2), ('jari', 2), ('tangan', 2), ('salah', 2), ('kamar', 2), ('harto', 2), ('spiritual', 2), ('jemput', 2), ('tampil', 2), ('berewok', 2), ('isi', 2), ('jarang', 2), ('masak', 2), ('santap', 2), ('sup', 2), ('ikan', 2), ('kalah', 2), ('pasal', 2), ('tenang', 1), ('pasrah', 1), ('penuh', 1), ('kasih', 1), ('kesan', 1), ('bincang', 1), ('siang', 1), ('milik', 1), ('hutomo', 1), ('mandala', 1), ('ruang', 1), ('unit', 1), ('vice', 1), ('controle', 1), ('buron', 1), ('susah', 1), ('tolong', 1), ('santun', 1), ('rendah', 1), ('hati', 1), ('tolak', 1), ('media', 1), ('tulis', 1), ('cana', 1), ('pegang', 1), ('kartu', 1), ('tanda', 1), ('margasatwa', 1), ('rt', 1), ('rw', 1), ('cilandak', 1), ('timur', 1), ('jakarta', 1), ('selatan', 1), ('tanggal', 1), ('juli', 1), ('laku', 1), ('gerebek', 1), ('apartemen', 1), ('cemara', 1), ('alam', 1), ('segar', 1), ('tumpang', 1), ('tidur', 1), ('panggil', 1), ('bahaya', 1), ('sila', 1), ('kunci', 1), ('duplikat', 1), ('maleo', 1), ('ii', 1), ('bintaro', 1), ('tangerang', 1), ('banten', 1), ('hubung', 1), ('aktif', 1), ('kolonel', 1), ('corps', 1), ('militer', 1), ('usap', 1), ('kepala', 1), ('samping', 1), ('kiri', 1), ('khusus', 1), ('sosial', 1), ('hadir', 1), ('yah', 1), ('kurun', 1), ('agustusnovember', 1), ('cakap', 1), ('urung', 1), ('berdzikir', 1), ('sembahyang', 1), ('telat', 1), ('senang', 1), ('mutih', 1), ('rajin', 1), ('ibadah', 1), ('sayang', 1), ('ban', 1), ('nasihat', 1), ('giat', 1), ('kawal', 1), ('senjata', 1), ('api', 1), ('turun', 1), ('taksi', 1), ('mobil', 1), ('telepon', 1), ('pinggir', 1), ('wig', 1), ('kaus', 1), ('berjins', 1), ('kadang', 1), ('celana', 1), ('lutut', 1), ('busana', 1), ('foto', 1), ('sebar', 1), ('polda', 1), ('metro', 1), ('klimis', 1), ('rapi', 1), ('samar', 1), ('topi', 1), ('pet', 1), ('kaca', 1), ('mata', 1), ('hitam', 1), ('tas', 1), ('serut', 1), ('kain', 1), ('blacu', 1), ('ngobrolngobrol', 1), ('ngobrol', 1), ('diam', 1), ('bicara', 1), ('masuk', 1), ('ulek', 1), ('sambal', 1), ('masakan', 1), ('pas', 1), ('selera', 1), ('percaya', 1), ('sayur', 1), ('goreng', 1), ('gemar', 1), ('ayam', 1), ('pop', 1), ('pribadi', 1), ('sederhana', 1), ('fair', 1), ('simpel', 1), ('tekan', 1), ('deh', 1), ('main', 1), ('catur', 1), ('hak', 1), ('hadiah', 1), ('janji', 1), ('sidik', 1), ('tahan', 1), ('wajib', 1), ('lapor', 1), ('senin', 1), ('kuhp', 1), ('ancam', 1), ('jahat', 1), ('bantu', 1), ('lari', 1), ('kurung', 1), ('sembilan', 1), ('penjara', 1), ('denda', 1), ('rp', 1)]\n"
          ],
          "name": "stdout"
        }
      ]
    },
    {
      "cell_type": "code",
      "metadata": {
        "id": "qhpkUbYbPfUe",
        "colab_type": "code",
        "outputId": "8cf09bf6-84dd-4165-f6d5-cca357b2571a",
        "colab": {
          "base_uri": "https://localhost:8080/",
          "height": 35
        }
      },
      "source": [
        "print(wordsfreq.most_common()[0][1])"
      ],
      "execution_count": 0,
      "outputs": [
        {
          "output_type": "stream",
          "text": [
            "39\n"
          ],
          "name": "stdout"
        }
      ]
    },
    {
      "cell_type": "code",
      "metadata": {
        "id": "vpepqSjDe84O",
        "colab_type": "code",
        "outputId": "1ed2edee-ed6a-460d-9a46-17d238b8c81a",
        "colab": {
          "base_uri": "https://localhost:8080/",
          "height": 162
        }
      },
      "source": [
        "value=wordsfreq.most_common()[0][1]\n",
        "key=wordsfreq.most_common()[0][0]\n",
        "print(value)\n",
        "#df2=pd.DataFrame([int(value)],columns=list[str(key)])\n",
        "df2=pd.DataFrame({str(key):[int(value)]})\n",
        "display(df2)\n",
        "df3=pd.DataFrame({str(key):[46]})\n",
        "(df3)\n",
        "df4=pd.DataFrame({'denov':[15]})\n",
        "(df4)"
      ],
      "execution_count": 0,
      "outputs": [
        {
          "output_type": "stream",
          "text": [
            "39\n"
          ],
          "name": "stdout"
        },
        {
          "output_type": "display_data",
          "data": {
            "text/html": [
              "<div>\n",
              "<style scoped>\n",
              "    .dataframe tbody tr th:only-of-type {\n",
              "        vertical-align: middle;\n",
              "    }\n",
              "\n",
              "    .dataframe tbody tr th {\n",
              "        vertical-align: top;\n",
              "    }\n",
              "\n",
              "    .dataframe thead th {\n",
              "        text-align: right;\n",
              "    }\n",
              "</style>\n",
              "<table border=\"1\" class=\"dataframe\">\n",
              "  <thead>\n",
              "    <tr style=\"text-align: right;\">\n",
              "      <th></th>\n",
              "      <th>tommy</th>\n",
              "    </tr>\n",
              "  </thead>\n",
              "  <tbody>\n",
              "    <tr>\n",
              "      <th>0</th>\n",
              "      <td>39</td>\n",
              "    </tr>\n",
              "  </tbody>\n",
              "</table>\n",
              "</div>"
            ],
            "text/plain": [
              "   tommy\n",
              "0     39"
            ]
          },
          "metadata": {
            "tags": []
          }
        },
        {
          "output_type": "execute_result",
          "data": {
            "text/html": [
              "<div>\n",
              "<style scoped>\n",
              "    .dataframe tbody tr th:only-of-type {\n",
              "        vertical-align: middle;\n",
              "    }\n",
              "\n",
              "    .dataframe tbody tr th {\n",
              "        vertical-align: top;\n",
              "    }\n",
              "\n",
              "    .dataframe thead th {\n",
              "        text-align: right;\n",
              "    }\n",
              "</style>\n",
              "<table border=\"1\" class=\"dataframe\">\n",
              "  <thead>\n",
              "    <tr style=\"text-align: right;\">\n",
              "      <th></th>\n",
              "      <th>denov</th>\n",
              "    </tr>\n",
              "  </thead>\n",
              "  <tbody>\n",
              "    <tr>\n",
              "      <th>0</th>\n",
              "      <td>15</td>\n",
              "    </tr>\n",
              "  </tbody>\n",
              "</table>\n",
              "</div>"
            ],
            "text/plain": [
              "   denov\n",
              "0     15"
            ]
          },
          "metadata": {
            "tags": []
          },
          "execution_count": 199
        }
      ]
    },
    {
      "cell_type": "code",
      "metadata": {
        "id": "zmesUeTug01l",
        "colab_type": "code",
        "outputId": "da174ee0-f704-4d9d-c9ed-1ca20ce9f198",
        "colab": {
          "base_uri": "https://localhost:8080/",
          "height": 112
        }
      },
      "source": [
        "df2.append(df3, ignore_index=True)"
      ],
      "execution_count": 0,
      "outputs": [
        {
          "output_type": "execute_result",
          "data": {
            "text/html": [
              "<div>\n",
              "<style scoped>\n",
              "    .dataframe tbody tr th:only-of-type {\n",
              "        vertical-align: middle;\n",
              "    }\n",
              "\n",
              "    .dataframe tbody tr th {\n",
              "        vertical-align: top;\n",
              "    }\n",
              "\n",
              "    .dataframe thead th {\n",
              "        text-align: right;\n",
              "    }\n",
              "</style>\n",
              "<table border=\"1\" class=\"dataframe\">\n",
              "  <thead>\n",
              "    <tr style=\"text-align: right;\">\n",
              "      <th></th>\n",
              "      <th>tommy</th>\n",
              "    </tr>\n",
              "  </thead>\n",
              "  <tbody>\n",
              "    <tr>\n",
              "      <th>0</th>\n",
              "      <td>39</td>\n",
              "    </tr>\n",
              "    <tr>\n",
              "      <th>1</th>\n",
              "      <td>46</td>\n",
              "    </tr>\n",
              "  </tbody>\n",
              "</table>\n",
              "</div>"
            ],
            "text/plain": [
              "   tommy\n",
              "0     39\n",
              "1     46"
            ]
          },
          "metadata": {
            "tags": []
          },
          "execution_count": 198
        }
      ]
    },
    {
      "cell_type": "code",
      "metadata": {
        "id": "6HqCKyy8hKDT",
        "colab_type": "code",
        "outputId": "c6ab56d3-0b9b-4578-d371-2120fe2997bb",
        "colab": {
          "base_uri": "https://localhost:8080/",
          "height": 257
        }
      },
      "source": [
        "df2.append(df4, ignore_index=True)"
      ],
      "execution_count": 0,
      "outputs": [
        {
          "output_type": "stream",
          "text": [
            "/usr/local/lib/python3.6/dist-packages/pandas/core/frame.py:7138: FutureWarning: Sorting because non-concatenation axis is not aligned. A future version\n",
            "of pandas will change to not sort by default.\n",
            "\n",
            "To accept the future behavior, pass 'sort=False'.\n",
            "\n",
            "To retain the current behavior and silence the warning, pass 'sort=True'.\n",
            "\n",
            "  sort=sort,\n"
          ],
          "name": "stderr"
        },
        {
          "output_type": "execute_result",
          "data": {
            "text/html": [
              "<div>\n",
              "<style scoped>\n",
              "    .dataframe tbody tr th:only-of-type {\n",
              "        vertical-align: middle;\n",
              "    }\n",
              "\n",
              "    .dataframe tbody tr th {\n",
              "        vertical-align: top;\n",
              "    }\n",
              "\n",
              "    .dataframe thead th {\n",
              "        text-align: right;\n",
              "    }\n",
              "</style>\n",
              "<table border=\"1\" class=\"dataframe\">\n",
              "  <thead>\n",
              "    <tr style=\"text-align: right;\">\n",
              "      <th></th>\n",
              "      <th>denov</th>\n",
              "      <th>tommy</th>\n",
              "    </tr>\n",
              "  </thead>\n",
              "  <tbody>\n",
              "    <tr>\n",
              "      <th>0</th>\n",
              "      <td>NaN</td>\n",
              "      <td>39.0</td>\n",
              "    </tr>\n",
              "    <tr>\n",
              "      <th>1</th>\n",
              "      <td>15.0</td>\n",
              "      <td>NaN</td>\n",
              "    </tr>\n",
              "  </tbody>\n",
              "</table>\n",
              "</div>"
            ],
            "text/plain": [
              "   denov  tommy\n",
              "0    NaN   39.0\n",
              "1   15.0    NaN"
            ]
          },
          "metadata": {
            "tags": []
          },
          "execution_count": 200
        }
      ]
    },
    {
      "cell_type": "code",
      "metadata": {
        "id": "inDv9NDtRvwg",
        "colab_type": "code",
        "outputId": "61d5e8d5-9152-4dba-e788-513c164c96ca",
        "colab": {
          "base_uri": "https://localhost:8080/",
          "height": 395
        }
      },
      "source": [
        "df['judul']=listtitle[0]\n",
        "tgl_terbit = str(listyear[0]+'-'+listmonth[0]+'-'+listday[0])\n",
        "df.insert(1,'tanggal',pd.Timestamp(tgl_terbit))\n",
        "for i in range (len(wordsfreq.most_common())):\n",
        "  dfvalue=[wordsfreq.most_common()[i][1]]\n",
        "  df[wordsfreq.most_common()[i][0]]=dfvalue"
      ],
      "execution_count": 0,
      "outputs": [
        {
          "output_type": "error",
          "ename": "ValueError",
          "evalue": "ignored",
          "traceback": [
            "\u001b[0;31m---------------------------------------------------------------------------\u001b[0m",
            "\u001b[0;31mValueError\u001b[0m                                Traceback (most recent call last)",
            "\u001b[0;32m<ipython-input-174-b0611ac17671>\u001b[0m in \u001b[0;36m<module>\u001b[0;34m()\u001b[0m\n\u001b[1;32m      1\u001b[0m \u001b[0mdf\u001b[0m\u001b[0;34m[\u001b[0m\u001b[0;34m'judul'\u001b[0m\u001b[0;34m]\u001b[0m\u001b[0;34m=\u001b[0m\u001b[0mlisttitle\u001b[0m\u001b[0;34m[\u001b[0m\u001b[0;36m0\u001b[0m\u001b[0;34m]\u001b[0m\u001b[0;34m\u001b[0m\u001b[0;34m\u001b[0m\u001b[0m\n\u001b[1;32m      2\u001b[0m \u001b[0mtgl_terbit\u001b[0m \u001b[0;34m=\u001b[0m \u001b[0mstr\u001b[0m\u001b[0;34m(\u001b[0m\u001b[0mlistyear\u001b[0m\u001b[0;34m[\u001b[0m\u001b[0;36m0\u001b[0m\u001b[0;34m]\u001b[0m\u001b[0;34m+\u001b[0m\u001b[0;34m'-'\u001b[0m\u001b[0;34m+\u001b[0m\u001b[0mlistmonth\u001b[0m\u001b[0;34m[\u001b[0m\u001b[0;36m0\u001b[0m\u001b[0;34m]\u001b[0m\u001b[0;34m+\u001b[0m\u001b[0;34m'-'\u001b[0m\u001b[0;34m+\u001b[0m\u001b[0mlistday\u001b[0m\u001b[0;34m[\u001b[0m\u001b[0;36m0\u001b[0m\u001b[0;34m]\u001b[0m\u001b[0;34m)\u001b[0m\u001b[0;34m\u001b[0m\u001b[0;34m\u001b[0m\u001b[0m\n\u001b[0;32m----> 3\u001b[0;31m \u001b[0mdf\u001b[0m\u001b[0;34m.\u001b[0m\u001b[0minsert\u001b[0m\u001b[0;34m(\u001b[0m\u001b[0;36m1\u001b[0m\u001b[0;34m,\u001b[0m\u001b[0;34m'tanggal'\u001b[0m\u001b[0;34m,\u001b[0m\u001b[0mpd\u001b[0m\u001b[0;34m.\u001b[0m\u001b[0mTimestamp\u001b[0m\u001b[0;34m(\u001b[0m\u001b[0mtgl_terbit\u001b[0m\u001b[0;34m)\u001b[0m\u001b[0;34m)\u001b[0m\u001b[0;34m\u001b[0m\u001b[0;34m\u001b[0m\u001b[0m\n\u001b[0m\u001b[1;32m      4\u001b[0m \u001b[0;32mfor\u001b[0m \u001b[0mi\u001b[0m \u001b[0;32min\u001b[0m \u001b[0mrange\u001b[0m \u001b[0;34m(\u001b[0m\u001b[0mlen\u001b[0m\u001b[0;34m(\u001b[0m\u001b[0mwordsfreq\u001b[0m\u001b[0;34m.\u001b[0m\u001b[0mmost_common\u001b[0m\u001b[0;34m(\u001b[0m\u001b[0;34m)\u001b[0m\u001b[0;34m)\u001b[0m\u001b[0;34m)\u001b[0m\u001b[0;34m:\u001b[0m\u001b[0;34m\u001b[0m\u001b[0;34m\u001b[0m\u001b[0m\n\u001b[1;32m      5\u001b[0m   \u001b[0mdfvalue\u001b[0m\u001b[0;34m=\u001b[0m\u001b[0;34m[\u001b[0m\u001b[0mwordsfreq\u001b[0m\u001b[0;34m.\u001b[0m\u001b[0mmost_common\u001b[0m\u001b[0;34m(\u001b[0m\u001b[0;34m)\u001b[0m\u001b[0;34m[\u001b[0m\u001b[0mi\u001b[0m\u001b[0;34m]\u001b[0m\u001b[0;34m[\u001b[0m\u001b[0;36m1\u001b[0m\u001b[0;34m]\u001b[0m\u001b[0;34m]\u001b[0m\u001b[0;34m\u001b[0m\u001b[0;34m\u001b[0m\u001b[0m\n",
            "\u001b[0;32m/usr/local/lib/python3.6/dist-packages/pandas/core/frame.py\u001b[0m in \u001b[0;36minsert\u001b[0;34m(self, loc, column, value, allow_duplicates)\u001b[0m\n\u001b[1;32m   3589\u001b[0m         \u001b[0mself\u001b[0m\u001b[0;34m.\u001b[0m\u001b[0m_ensure_valid_index\u001b[0m\u001b[0;34m(\u001b[0m\u001b[0mvalue\u001b[0m\u001b[0;34m)\u001b[0m\u001b[0;34m\u001b[0m\u001b[0;34m\u001b[0m\u001b[0m\n\u001b[1;32m   3590\u001b[0m         \u001b[0mvalue\u001b[0m \u001b[0;34m=\u001b[0m \u001b[0mself\u001b[0m\u001b[0;34m.\u001b[0m\u001b[0m_sanitize_column\u001b[0m\u001b[0;34m(\u001b[0m\u001b[0mcolumn\u001b[0m\u001b[0;34m,\u001b[0m \u001b[0mvalue\u001b[0m\u001b[0;34m,\u001b[0m \u001b[0mbroadcast\u001b[0m\u001b[0;34m=\u001b[0m\u001b[0;32mFalse\u001b[0m\u001b[0;34m)\u001b[0m\u001b[0;34m\u001b[0m\u001b[0;34m\u001b[0m\u001b[0m\n\u001b[0;32m-> 3591\u001b[0;31m         \u001b[0mself\u001b[0m\u001b[0;34m.\u001b[0m\u001b[0m_data\u001b[0m\u001b[0;34m.\u001b[0m\u001b[0minsert\u001b[0m\u001b[0;34m(\u001b[0m\u001b[0mloc\u001b[0m\u001b[0;34m,\u001b[0m \u001b[0mcolumn\u001b[0m\u001b[0;34m,\u001b[0m \u001b[0mvalue\u001b[0m\u001b[0;34m,\u001b[0m \u001b[0mallow_duplicates\u001b[0m\u001b[0;34m=\u001b[0m\u001b[0mallow_duplicates\u001b[0m\u001b[0;34m)\u001b[0m\u001b[0;34m\u001b[0m\u001b[0;34m\u001b[0m\u001b[0m\n\u001b[0m\u001b[1;32m   3592\u001b[0m \u001b[0;34m\u001b[0m\u001b[0m\n\u001b[1;32m   3593\u001b[0m     \u001b[0;32mdef\u001b[0m \u001b[0massign\u001b[0m\u001b[0;34m(\u001b[0m\u001b[0mself\u001b[0m\u001b[0;34m,\u001b[0m \u001b[0;34m**\u001b[0m\u001b[0mkwargs\u001b[0m\u001b[0;34m)\u001b[0m\u001b[0;34m:\u001b[0m\u001b[0;34m\u001b[0m\u001b[0;34m\u001b[0m\u001b[0m\n",
            "\u001b[0;32m/usr/local/lib/python3.6/dist-packages/pandas/core/internals/managers.py\u001b[0m in \u001b[0;36minsert\u001b[0;34m(self, loc, item, value, allow_duplicates)\u001b[0m\n\u001b[1;32m   1171\u001b[0m         \u001b[0;32mif\u001b[0m \u001b[0;32mnot\u001b[0m \u001b[0mallow_duplicates\u001b[0m \u001b[0;32mand\u001b[0m \u001b[0mitem\u001b[0m \u001b[0;32min\u001b[0m \u001b[0mself\u001b[0m\u001b[0;34m.\u001b[0m\u001b[0mitems\u001b[0m\u001b[0;34m:\u001b[0m\u001b[0;34m\u001b[0m\u001b[0;34m\u001b[0m\u001b[0m\n\u001b[1;32m   1172\u001b[0m             \u001b[0;31m# Should this be a different kind of error??\u001b[0m\u001b[0;34m\u001b[0m\u001b[0;34m\u001b[0m\u001b[0;34m\u001b[0m\u001b[0m\n\u001b[0;32m-> 1173\u001b[0;31m             \u001b[0;32mraise\u001b[0m \u001b[0mValueError\u001b[0m\u001b[0;34m(\u001b[0m\u001b[0;34m\"cannot insert {}, already exists\"\u001b[0m\u001b[0;34m.\u001b[0m\u001b[0mformat\u001b[0m\u001b[0;34m(\u001b[0m\u001b[0mitem\u001b[0m\u001b[0;34m)\u001b[0m\u001b[0;34m)\u001b[0m\u001b[0;34m\u001b[0m\u001b[0;34m\u001b[0m\u001b[0m\n\u001b[0m\u001b[1;32m   1174\u001b[0m \u001b[0;34m\u001b[0m\u001b[0m\n\u001b[1;32m   1175\u001b[0m         \u001b[0;32mif\u001b[0m \u001b[0;32mnot\u001b[0m \u001b[0misinstance\u001b[0m\u001b[0;34m(\u001b[0m\u001b[0mloc\u001b[0m\u001b[0;34m,\u001b[0m \u001b[0mint\u001b[0m\u001b[0;34m)\u001b[0m\u001b[0;34m:\u001b[0m\u001b[0;34m\u001b[0m\u001b[0;34m\u001b[0m\u001b[0m\n",
            "\u001b[0;31mValueError\u001b[0m: cannot insert tanggal, already exists"
          ]
        }
      ]
    },
    {
      "cell_type": "code",
      "metadata": {
        "id": "6dA3KDWFT4Gu",
        "colab_type": "code",
        "colab": {}
      },
      "source": [
        "#print(tgl_terbit)"
      ],
      "execution_count": 0,
      "outputs": []
    },
    {
      "cell_type": "code",
      "metadata": {
        "id": "FBw1hUXKUbz5",
        "colab_type": "code",
        "outputId": "bad84e16-8602-4bca-f622-bece63943693",
        "colab": {
          "base_uri": "https://localhost:8080/",
          "height": 32
        }
      },
      "source": [
        "df"
      ],
      "execution_count": 0,
      "outputs": [
        {
          "output_type": "execute_result",
          "data": {
            "text/html": [
              "<div>\n",
              "<style scoped>\n",
              "    .dataframe tbody tr th:only-of-type {\n",
              "        vertical-align: middle;\n",
              "    }\n",
              "\n",
              "    .dataframe tbody tr th {\n",
              "        vertical-align: top;\n",
              "    }\n",
              "\n",
              "    .dataframe thead th {\n",
              "        text-align: right;\n",
              "    }\n",
              "</style>\n",
              "<table border=\"1\" class=\"dataframe\">\n",
              "  <thead>\n",
              "    <tr style=\"text-align: right;\">\n",
              "      <th></th>\n",
              "    </tr>\n",
              "  </thead>\n",
              "  <tbody>\n",
              "  </tbody>\n",
              "</table>\n",
              "</div>"
            ],
            "text/plain": [
              "Empty DataFrame\n",
              "Columns: []\n",
              "Index: []"
            ]
          },
          "metadata": {
            "tags": []
          },
          "execution_count": 178
        }
      ]
    },
    {
      "cell_type": "code",
      "metadata": {
        "id": "2Dt6_Y2-Wj8Y",
        "colab_type": "code",
        "colab": {}
      },
      "source": [
        ""
      ],
      "execution_count": 0,
      "outputs": []
    }
  ]
}